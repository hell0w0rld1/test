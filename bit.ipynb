{
 "cells": [
  {
   "cell_type": "markdown",
   "metadata": {},
   "source": [
    "# bit演算\n",
    "各bit(2進数表記の文字列)の桁ごとにAND, ORの演算をおこなう  "
   ]
  },
  {
   "cell_type": "code",
   "execution_count": 46,
   "metadata": {},
   "outputs": [
    {
     "output_type": "stream",
     "name": "stdout",
     "text": "4 \t 0b100\n6 \t 0b110\n4 & 6\t 0b100 = 4\n4 | 6\t 0b110 = 6\n\n4 \t 0b100\n1 \t 0b1\n4 & 1\t 0b0 = 0\n4 | 1\t 0b101 = 5\n\n5 \t 0b101\n3 \t 0b11\n5 & 3\t 0b1 = 1\n5 | 3\t 0b111 = 7\n"
    }
   ],
   "source": [
    "print(4, \"\\t\", bin(4))\n",
    "print(6, \"\\t\", bin(6))\n",
    "print(f\"4 & 6\\t {bin(4 & 6)} = {4 & 6}\") # 論理積\n",
    "print(f\"4 | 6\\t {bin(4 | 6)} = {4 | 6}\") # 論理和\n",
    "print()\n",
    "\n",
    "print(4, \"\\t\", bin(4))\n",
    "print(1, \"\\t\", bin(1))\n",
    "print(f\"4 & 1\\t {bin(4 & 1)} = {4 & 1}\") # 論理積\n",
    "print(f\"4 | 1\\t {bin(4 | 1)} = {4 | 1}\") # 論理和\n",
    "print()\n",
    "\n",
    "print(5, \"\\t\", bin(5))\n",
    "print(3, \"\\t\", bin(3))\n",
    "print(f\"5 & 3\\t {bin(5 & 3)} = {5 & 3}\") # 論理積\n",
    "print(f\"5 | 3\\t {bin(5 | 3)} = {5 | 3}\") # 論理和"
   ]
  },
  {
   "cell_type": "markdown",
   "metadata": {},
   "source": [
    "# シフト演算\n",
    "\">>\"で指定した桁数だけシフト  \n"
   ]
  },
  {
   "cell_type": "code",
   "execution_count": 41,
   "metadata": {},
   "outputs": [
    {
     "output_type": "stream",
     "name": "stdout",
     "text": "bin(5) =  0b101\nbin(5>>1) =  0b10\nbin(5>>2) =  0b1\n\nbin(11) =  0b1011\nbin(11<<1) =  0b10110\nbin(11<<2) =  0b101100\n"
    }
   ],
   "source": [
    "print(\"bin(5) = \", bin(5))\n",
    "print(\"bin(5>>1) = \", bin(5>>1))\n",
    "print(\"bin(5>>2) = \", bin(5>>2))\n",
    "print()\n",
    "\n",
    "print(\"bin(11) = \", bin(11))\n",
    "print(\"bin(11<<1) = \", bin(11<<1))\n",
    "print(\"bin(11<<2) = \", bin(11<<2))"
   ]
  },
  {
   "cell_type": "markdown",
   "metadata": {},
   "source": [
    "### 1(= 0b1)との論理積(\"&\")をとることで最下位bitの値を取り出せる。"
   ]
  },
  {
   "cell_type": "code",
   "execution_count": 38,
   "metadata": {},
   "outputs": [
    {
     "output_type": "stream",
     "name": "stdout",
     "text": "0b1000の1桁目 : 0\n0b1000の2桁目 : 0\n0b1000の3桁目 : 0\n0b1000の4桁目 : 1\n"
    }
   ],
   "source": [
    "print(f\"{bin(8)}の1桁目 : {8 & 1}\")\n",
    "print(f\"{bin(8)}の2桁目 : {(8>>1) & 1}\")\n",
    "print(f\"{bin(8)}の3桁目 : {(8>>2) & 1}\")\n",
    "print(f\"{bin(8)}の4桁目 : {(8>>3) & 1}\")"
   ]
  },
  {
   "cell_type": "markdown",
   "metadata": {},
   "source": [
    "# bit全探索\n",
    "全ての部分集合について調べる"
   ]
  },
  {
   "cell_type": "code",
   "execution_count": 35,
   "metadata": {},
   "outputs": [
    {
     "output_type": "stream",
     "name": "stdout",
     "text": "bin(i) \t i \tl2\n---------------------------\n0b0 \t 0 \t []\n0b1 \t 1 \t ['A']\n0b10 \t 2 \t ['B']\n0b11 \t 3 \t ['A', 'B']\n0b100 \t 4 \t ['C']\n0b101 \t 5 \t ['A', 'C']\n0b110 \t 6 \t ['B', 'C']\n0b111 \t 7 \t ['A', 'B', 'C']\n0b1000 \t 8 \t ['D']\n0b1001 \t 9 \t ['A', 'D']\n0b1010 \t 10 \t ['B', 'D']\n0b1011 \t 11 \t ['A', 'B', 'D']\n0b1100 \t 12 \t ['C', 'D']\n0b1101 \t 13 \t ['A', 'C', 'D']\n0b1110 \t 14 \t ['B', 'C', 'D']\n0b1111 \t 15 \t ['A', 'B', 'C', 'D']\n"
    }
   ],
   "source": [
    "# l1の全ての部分集合を求める\n",
    "l1 = ['A','B','C','D']\n",
    "\n",
    "print(\"bin(i) \\t i \\tl2\")\n",
    "print(\"---------------------------\")\n",
    "\n",
    "for i in range(2**len(l1)):\n",
    "    l2 = []\n",
    "    for j in range(len(l1)):\n",
    "        if (i>>j) &1 == 1: # bin(i)の下からj桁目が\"1\"の場合\n",
    "            l2.append(l1[j])\n",
    "    print(f\"{bin(i)} \\t {i} \\t {l2}\")\n"
   ]
  }
 ],
 "metadata": {
  "language_info": {
   "codemirror_mode": {
    "name": "ipython",
    "version": 3
   },
   "file_extension": ".py",
   "mimetype": "text/x-python",
   "name": "python",
   "nbconvert_exporter": "python",
   "pygments_lexer": "ipython3",
   "version": "3.8.2-final"
  },
  "orig_nbformat": 2,
  "kernelspec": {
   "name": "python38232bit36168436b6a8404fa6e67d2afc388c75",
   "display_name": "Python 3.8.2 32-bit"
  }
 },
 "nbformat": 4,
 "nbformat_minor": 2
}